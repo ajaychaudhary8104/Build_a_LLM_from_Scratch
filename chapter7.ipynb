{
  "nbformat": 4,
  "nbformat_minor": 0,
  "metadata": {
    "colab": {
      "provenance": [],
      "gpuType": "T4"
    },
    "kernelspec": {
      "name": "python3",
      "display_name": "Python 3"
    },
    "language_info": {
      "name": "python"
    },
    "accelerator": "GPU"
  },
  "cells": [
    {
      "cell_type": "code",
      "execution_count": 1,
      "metadata": {
        "id": "iEJ3SuvcxDrP"
      },
      "outputs": [],
      "source": [
        "import json\n",
        "import os\n",
        "import urllib\n",
        "def download_and_load_file(file_path, url):\n",
        "   if not os.path.exists(file_path):\n",
        "      with urllib.request.urlopen(url) as response:\n",
        "         text_data = response.read().decode(\"utf-8\")\n",
        "      with open(file_path, \"w\", encoding=\"utf-8\") as file:\n",
        "         file.write(text_data)\n",
        "   else:\n",
        "      with open(file_path, \"r\", encoding=\"utf-8\") as file:\n",
        "         text_data = file.read()\n",
        "   with open(file_path, \"r\") as file:\n",
        "      data = json.load(file)\n",
        "   return data"
      ]
    },
    {
      "cell_type": "code",
      "source": [
        "file_path = \"instruction-data.json\"\n",
        "url = (\n",
        "\"https://raw.githubusercontent.com/rasbt/LLMs-from-scratch\"\n",
        "\"/main/ch07/01_main-chapter-code/instruction-data.json\"\n",
        ")\n",
        "data = download_and_load_file(file_path, url)\n",
        "print(\"Number of entries:\", len(data))"
      ],
      "metadata": {
        "colab": {
          "base_uri": "https://localhost:8080/"
        },
        "id": "z7kwkRLJxxFW",
        "outputId": "460a1681-d63b-4c53-d804-e70019379dfa"
      },
      "execution_count": 2,
      "outputs": [
        {
          "output_type": "stream",
          "name": "stdout",
          "text": [
            "Number of entries: 1100\n"
          ]
        }
      ]
    },
    {
      "cell_type": "code",
      "source": [
        "print(\"Example entry:\\n\", data[50])"
      ],
      "metadata": {
        "colab": {
          "base_uri": "https://localhost:8080/"
        },
        "id": "_vj97bMHx-MX",
        "outputId": "da6a1cad-eabe-45f5-db05-5b1a943c864e"
      },
      "execution_count": 3,
      "outputs": [
        {
          "output_type": "stream",
          "name": "stdout",
          "text": [
            "Example entry:\n",
            " {'instruction': 'Identify the correct spelling of the following word.', 'input': 'Ocassion', 'output': \"The correct spelling is 'Occasion.'\"}\n"
          ]
        }
      ]
    },
    {
      "cell_type": "code",
      "source": [
        "print(\"Another example entry:\\n\", data[999])"
      ],
      "metadata": {
        "colab": {
          "base_uri": "https://localhost:8080/"
        },
        "id": "vSEvoYexyGrv",
        "outputId": "519e2eb1-91ec-4682-9a7d-a08ad9857c54"
      },
      "execution_count": 4,
      "outputs": [
        {
          "output_type": "stream",
          "name": "stdout",
          "text": [
            "Another example entry:\n",
            " {'instruction': \"What is an antonym of 'complicated'?\", 'input': '', 'output': \"An antonym of 'complicated' is 'simple'.\"}\n"
          ]
        }
      ]
    },
    {
      "cell_type": "code",
      "source": [
        "def format_input(entry):\n",
        "   instruction_text = (f\"Below is an instruction that describes a task. \"\n",
        "                       f\"Write a response that appropriately completes the request.\"\n",
        "                       f\"\\n\\n### Instruction:\\n{entry['instruction']}\")\n",
        "   input_text = (f\"\\n\\n### Input:\\n{entry['input']}\" if entry[\"input\"] else \"\")\n",
        "   return instruction_text + input_text"
      ],
      "metadata": {
        "id": "PLD5n3xiyPjC"
      },
      "execution_count": 5,
      "outputs": []
    },
    {
      "cell_type": "code",
      "source": [
        "model_input = format_input(data[50])\n",
        "desired_response = f\"\\n\\n### Response:\\n{data[50]['output']}\"\n",
        "print(model_input + desired_response)"
      ],
      "metadata": {
        "colab": {
          "base_uri": "https://localhost:8080/"
        },
        "id": "yS6tr7p2ygt7",
        "outputId": "278e72f3-994f-4703-d2a2-356ec0498bb6"
      },
      "execution_count": 6,
      "outputs": [
        {
          "output_type": "stream",
          "name": "stdout",
          "text": [
            "Below is an instruction that describes a task. Write a response that appropriately completes the request.\n",
            "\n",
            "### Instruction:\n",
            "Identify the correct spelling of the following word.\n",
            "\n",
            "### Input:\n",
            "Ocassion\n",
            "\n",
            "### Response:\n",
            "The correct spelling is 'Occasion.'\n"
          ]
        }
      ]
    },
    {
      "cell_type": "code",
      "source": [
        "model_input = format_input(data[999])\n",
        "desired_response = f\"\\n\\n### Response:\\n{data[999]['output']}\"\n",
        "print(model_input + desired_response)"
      ],
      "metadata": {
        "colab": {
          "base_uri": "https://localhost:8080/"
        },
        "id": "r0GfBHI2ypu4",
        "outputId": "fe03bd5a-13eb-4399-89cb-2ca5df0f27d8"
      },
      "execution_count": 7,
      "outputs": [
        {
          "output_type": "stream",
          "name": "stdout",
          "text": [
            "Below is an instruction that describes a task. Write a response that appropriately completes the request.\n",
            "\n",
            "### Instruction:\n",
            "What is an antonym of 'complicated'?\n",
            "\n",
            "### Response:\n",
            "An antonym of 'complicated' is 'simple'.\n"
          ]
        }
      ]
    },
    {
      "cell_type": "code",
      "source": [
        "train_portion = int(len(data) * 0.85)\n",
        "test_portion = int(len(data) * 0.1)\n",
        "val_portion = len(data) - train_portion - test_portion\n",
        "train_data = data[:train_portion]\n",
        "test_data = data[train_portion:train_portion + test_portion]\n",
        "val_data = data[train_portion + test_portion:]\n",
        "print(\"Training set length:\", len(train_data))\n",
        "print(\"Validation set length:\", len(val_data))\n",
        "print(\"Test set length:\", len(test_data))"
      ],
      "metadata": {
        "colab": {
          "base_uri": "https://localhost:8080/"
        },
        "id": "T1S1wyAJywmP",
        "outputId": "cf902659-8e25-4de5-d23f-ce9d2964bfd1"
      },
      "execution_count": 8,
      "outputs": [
        {
          "output_type": "stream",
          "name": "stdout",
          "text": [
            "Training set length: 935\n",
            "Validation set length: 55\n",
            "Test set length: 110\n"
          ]
        }
      ]
    },
    {
      "cell_type": "code",
      "source": [
        "import torch\n",
        "from torch.utils.data import Dataset\n",
        "class InstructionDataset(Dataset):\n",
        "   def __init__(self, data, tokenizer):\n",
        "      self.data = data\n",
        "      self.encoded_texts = []\n",
        "      for entry in data:\n",
        "         instruction_plus_input = format_input(entry)\n",
        "         response_text = f\"\\n\\n### Response:\\n{entry['output']}\"\n",
        "         full_text = instruction_plus_input + response_text\n",
        "         self.encoded_texts.append(tokenizer.encode(full_text))\n",
        "   def __getitem__(self, index):\n",
        "      return self.encoded_texts[index]\n",
        "   def __len__(self):\n",
        "      return len(self.data)"
      ],
      "metadata": {
        "id": "cy0Tj79Ky4zp"
      },
      "execution_count": 9,
      "outputs": []
    },
    {
      "cell_type": "code",
      "source": [
        "import tiktoken\n",
        "tokenizer = tiktoken.get_encoding(\"gpt2\")\n",
        "print(tokenizer.encode(\"<|endoftext|>\", allowed_special={\"<|endoftext|>\"}))"
      ],
      "metadata": {
        "colab": {
          "base_uri": "https://localhost:8080/"
        },
        "id": "kmt35bzUzaPf",
        "outputId": "f7e749c5-7f27-4ff5-f671-934db09c738e"
      },
      "execution_count": 10,
      "outputs": [
        {
          "output_type": "stream",
          "name": "stdout",
          "text": [
            "[50256]\n"
          ]
        }
      ]
    },
    {
      "cell_type": "code",
      "source": [
        "def custom_collate_draft_1(batch, pad_token_id=50256, device=\"cpu\"):\n",
        "   batch_max_length = max(len(item)+1 for item in batch)\n",
        "   inputs_lst = []\n",
        "   for item in batch:\n",
        "      new_item = item.copy()\n",
        "      new_item += [pad_token_id]\n",
        "      padded = (new_item + [pad_token_id] *(batch_max_length - len(new_item)))\n",
        "      inputs = torch.tensor(padded[:-1])\n",
        "      inputs_lst.append(inputs)\n",
        "   inputs_tensor = torch.stack(inputs_lst).to(device)\n",
        "   return inputs_tensor"
      ],
      "metadata": {
        "id": "sL_fCYKvziHo"
      },
      "execution_count": 11,
      "outputs": []
    },
    {
      "cell_type": "code",
      "source": [
        "inputs_1 = [0, 1, 2, 3, 4]\n",
        "inputs_2 = [5, 6]\n",
        "inputs_3 = [7, 8, 9]\n",
        "batch = (\n",
        "inputs_1,\n",
        "inputs_2,\n",
        "inputs_3\n",
        ")\n",
        "print(custom_collate_draft_1(batch))"
      ],
      "metadata": {
        "colab": {
          "base_uri": "https://localhost:8080/"
        },
        "id": "BW1trLEyz9VO",
        "outputId": "28586ddf-1674-4900-e379-fa9b10db2082"
      },
      "execution_count": 12,
      "outputs": [
        {
          "output_type": "stream",
          "name": "stdout",
          "text": [
            "tensor([[    0,     1,     2,     3,     4],\n",
            "        [    5,     6, 50256, 50256, 50256],\n",
            "        [    7,     8,     9, 50256, 50256]])\n"
          ]
        }
      ]
    },
    {
      "cell_type": "code",
      "source": [
        "def custom_collate_draft_2(batch, pad_token_id=50256, device=\"cpu\"):\n",
        "   batch_max_length = max(len(item)+1 for item in batch)\n",
        "   inputs_lst, targets_lst = [], []\n",
        "   for item in batch:\n",
        "      new_item = item.copy()\n",
        "      new_item += [pad_token_id]\n",
        "      padded = (new_item + [pad_token_id] *(batch_max_length - len(new_item)))\n",
        "      inputs = torch.tensor(padded[:-1])\n",
        "      targets = torch.tensor(padded[1:])\n",
        "      inputs_lst.append(inputs)\n",
        "      targets_lst.append(targets)\n",
        "   inputs_tensor = torch.stack(inputs_lst).to(device)\n",
        "   targets_tensor = torch.stack(targets_lst).to(device)\n",
        "   return inputs_tensor, targets_tensor"
      ],
      "metadata": {
        "id": "wbeysxZk0Kka"
      },
      "execution_count": 13,
      "outputs": []
    },
    {
      "cell_type": "code",
      "source": [
        "inputs, targets = custom_collate_draft_2(batch)\n",
        "print(inputs)\n",
        "print(targets)"
      ],
      "metadata": {
        "colab": {
          "base_uri": "https://localhost:8080/"
        },
        "id": "uYX2WLDB0rsX",
        "outputId": "71333802-2505-446f-e21b-93cab66c6205"
      },
      "execution_count": 14,
      "outputs": [
        {
          "output_type": "stream",
          "name": "stdout",
          "text": [
            "tensor([[    0,     1,     2,     3,     4],\n",
            "        [    5,     6, 50256, 50256, 50256],\n",
            "        [    7,     8,     9, 50256, 50256]])\n",
            "tensor([[    1,     2,     3,     4, 50256],\n",
            "        [    6, 50256, 50256, 50256, 50256],\n",
            "        [    8,     9, 50256, 50256, 50256]])\n"
          ]
        }
      ]
    },
    {
      "cell_type": "code",
      "source": [
        "def custom_collate_fn(batch, pad_token_id=50256, ignore_index=-100, allowed_max_length=None, device=\"cpu\"):\n",
        "   batch_max_length = max(len(item)+1 for item in batch)\n",
        "   inputs_lst, targets_lst = [], []\n",
        "   for item in batch:\n",
        "      new_item = item.copy()\n",
        "      new_item += [pad_token_id]\n",
        "      padded = (new_item + [pad_token_id] *(batch_max_length - len(new_item)))\n",
        "      inputs = torch.tensor(padded[:-1])\n",
        "      targets = torch.tensor(padded[1:])\n",
        "      mask = targets == pad_token_id\n",
        "      indices = torch.nonzero(mask).squeeze()\n",
        "      if indices.numel() > 1:\n",
        "         targets[indices[1:]] = ignore_index\n",
        "      if allowed_max_length is not None:\n",
        "         inputs = inputs[:allowed_max_length]\n",
        "         targets = targets[:allowed_max_length]\n",
        "      inputs_lst.append(inputs)\n",
        "      targets_lst.append(targets)\n",
        "   inputs_tensor = torch.stack(inputs_lst).to(device)\n",
        "   targets_tensor = torch.stack(targets_lst).to(device)\n",
        "   return inputs_tensor, targets_tensor"
      ],
      "metadata": {
        "id": "gT-YZUVf0vR3"
      },
      "execution_count": 15,
      "outputs": []
    },
    {
      "cell_type": "code",
      "source": [
        "inputs, targets = custom_collate_fn(batch)\n",
        "print(inputs)\n",
        "print(targets)"
      ],
      "metadata": {
        "colab": {
          "base_uri": "https://localhost:8080/"
        },
        "id": "f42HV0iO1spR",
        "outputId": "0ab2fb65-6842-4b81-a4a4-3999197f8826"
      },
      "execution_count": 16,
      "outputs": [
        {
          "output_type": "stream",
          "name": "stdout",
          "text": [
            "tensor([[    0,     1,     2,     3,     4],\n",
            "        [    5,     6, 50256, 50256, 50256],\n",
            "        [    7,     8,     9, 50256, 50256]])\n",
            "tensor([[    1,     2,     3,     4, 50256],\n",
            "        [    6, 50256,  -100,  -100,  -100],\n",
            "        [    8,     9, 50256,  -100,  -100]])\n"
          ]
        }
      ]
    },
    {
      "cell_type": "code",
      "source": [
        "logits_1 = torch.tensor([[-1.0, 1.0],\n",
        "                         [-0.5, 1.5]])\n",
        "targets_1 = torch.tensor([0, 1]) # Correct token indices to generate\n",
        "loss_1 = torch.nn.functional.cross_entropy(logits_1, targets_1)\n",
        "print(loss_1)"
      ],
      "metadata": {
        "colab": {
          "base_uri": "https://localhost:8080/"
        },
        "id": "9JjnDp9415r3",
        "outputId": "19335fdc-6c26-475b-8509-74057b5e06a6"
      },
      "execution_count": 17,
      "outputs": [
        {
          "output_type": "stream",
          "name": "stdout",
          "text": [
            "tensor(1.1269)\n"
          ]
        }
      ]
    },
    {
      "cell_type": "code",
      "source": [
        "logits_2 = torch.tensor([[-1.0, 1.0],\n",
        "                         [-0.5, 1.5],\n",
        "                         [-0.5, 1.5]])\n",
        "targets_2 = torch.tensor([0, 1, 1])\n",
        "loss_2 = torch.nn.functional.cross_entropy(logits_2, targets_2)\n",
        "print(loss_2)"
      ],
      "metadata": {
        "colab": {
          "base_uri": "https://localhost:8080/"
        },
        "id": "8icddluN2Psk",
        "outputId": "7400f5e4-f211-4fa2-d538-4f72bd69740a"
      },
      "execution_count": 18,
      "outputs": [
        {
          "output_type": "stream",
          "name": "stdout",
          "text": [
            "tensor(0.7936)\n"
          ]
        }
      ]
    },
    {
      "cell_type": "code",
      "source": [
        "targets_3 = torch.tensor([0, 1, -100])\n",
        "loss_3 = torch.nn.functional.cross_entropy(logits_2, targets_3)\n",
        "print(loss_3)\n",
        "print(\"loss_1 == loss_3:\", loss_1 == loss_3)"
      ],
      "metadata": {
        "colab": {
          "base_uri": "https://localhost:8080/"
        },
        "id": "JJgRVqio2YXn",
        "outputId": "97119cb3-2319-4748-c096-4b96e830dc1b"
      },
      "execution_count": 19,
      "outputs": [
        {
          "output_type": "stream",
          "name": "stdout",
          "text": [
            "tensor(1.1269)\n",
            "loss_1 == loss_3: tensor(True)\n"
          ]
        }
      ]
    },
    {
      "cell_type": "code",
      "source": [
        "device = torch.device(\"cuda\" if torch.cuda.is_available() else \"cpu\")\n",
        "print(\"Device:\", device)"
      ],
      "metadata": {
        "colab": {
          "base_uri": "https://localhost:8080/"
        },
        "id": "R5cOO2j52jOa",
        "outputId": "1e97868d-46fe-4b8b-ada7-71d7c65040c3"
      },
      "execution_count": 20,
      "outputs": [
        {
          "output_type": "stream",
          "name": "stdout",
          "text": [
            "Device: cuda\n"
          ]
        }
      ]
    },
    {
      "cell_type": "code",
      "source": [
        "from functools import partial\n",
        "customized_collate_fn = partial(custom_collate_fn, device=device, allowed_max_length=1024)"
      ],
      "metadata": {
        "id": "t_MVajmZ3AO5"
      },
      "execution_count": 21,
      "outputs": []
    },
    {
      "cell_type": "code",
      "source": [
        "from torch.utils.data import DataLoader\n",
        "num_workers = 0\n",
        "batch_size = 8\n",
        "torch.manual_seed(123)\n",
        "\n",
        "train_dataset = InstructionDataset(train_data, tokenizer)\n",
        "train_loader = DataLoader(train_dataset, batch_size=batch_size, collate_fn=customized_collate_fn, shuffle=True, drop_last=True, num_workers=num_workers)\n",
        "\n",
        "val_dataset = InstructionDataset(val_data, tokenizer)\n",
        "val_loader = DataLoader(val_dataset, batch_size=batch_size, collate_fn=customized_collate_fn, shuffle=False, drop_last=False, num_workers=num_workers)\n",
        "\n",
        "test_dataset = InstructionDataset(test_data, tokenizer)\n",
        "test_loader = DataLoader(test_dataset, batch_size=batch_size, collate_fn=customized_collate_fn, shuffle=False, drop_last=False,num_workers=num_workers)"
      ],
      "metadata": {
        "id": "PUBFjC6j3G0-"
      },
      "execution_count": 22,
      "outputs": []
    },
    {
      "cell_type": "code",
      "source": [
        "count = 0\n",
        "print(\"Train loader:\")\n",
        "for inputs, targets in train_loader:\n",
        "   print(inputs.shape, targets.shape)\n",
        "   if count > 5:\n",
        "      break\n",
        "   count += 1"
      ],
      "metadata": {
        "colab": {
          "base_uri": "https://localhost:8080/"
        },
        "id": "sLH463Gp3vaI",
        "outputId": "3a8803cf-360a-44ed-a1aa-dc9f6a6b2a34"
      },
      "execution_count": 23,
      "outputs": [
        {
          "output_type": "stream",
          "name": "stdout",
          "text": [
            "Train loader:\n",
            "torch.Size([8, 61]) torch.Size([8, 61])\n",
            "torch.Size([8, 76]) torch.Size([8, 76])\n",
            "torch.Size([8, 73]) torch.Size([8, 73])\n",
            "torch.Size([8, 68]) torch.Size([8, 68])\n",
            "torch.Size([8, 65]) torch.Size([8, 65])\n",
            "torch.Size([8, 72]) torch.Size([8, 72])\n",
            "torch.Size([8, 80]) torch.Size([8, 80])\n"
          ]
        }
      ]
    },
    {
      "cell_type": "code",
      "source": [
        "from gpt_download import download_and_load_gpt2\n",
        "from previous_chapters import GPTModel\n",
        "from previous_chapters import load_weights_into_gpt"
      ],
      "metadata": {
        "id": "n8ULcLLr31kA"
      },
      "execution_count": 24,
      "outputs": []
    },
    {
      "cell_type": "code",
      "source": [
        "BASE_CONFIG = {\n",
        "\"vocab_size\": 50257, # Vocabulary size\n",
        "\"context_length\": 1024, # Context length\n",
        "\"drop_rate\": 0.0, # Dropout rate\n",
        "\"qkv_bias\": True # Query-key-value bias\n",
        "}\n",
        "model_configs = {\n",
        "\"gpt2-small (124M)\": {\"emb_dim\": 768, \"n_layers\": 12, \"n_heads\": 12},\n",
        "\"gpt2-medium (355M)\": {\"emb_dim\": 1024, \"n_layers\": 24, \"n_heads\": 16},\n",
        "\"gpt2-large (774M)\": {\"emb_dim\": 1280, \"n_layers\": 36, \"n_heads\": 20},\n",
        "\"gpt2-xl (1558M)\": {\"emb_dim\": 1600, \"n_layers\": 48, \"n_heads\": 25},\n",
        "}\n",
        "CHOOSE_MODEL = \"gpt2-medium (355M)\"\n",
        "BASE_CONFIG.update(model_configs[CHOOSE_MODEL])\n",
        "model_size = CHOOSE_MODEL.split(\" \")[-1].lstrip(\"(\").rstrip(\")\")\n",
        "settings, params = download_and_load_gpt2(model_size=model_size, models_dir=\"gpt2\")\n",
        "model = GPTModel(BASE_CONFIG)\n",
        "load_weights_into_gpt(model, params)\n",
        "model.eval();"
      ],
      "metadata": {
        "colab": {
          "base_uri": "https://localhost:8080/"
        },
        "id": "QW8ihyTa4syh",
        "outputId": "ccd51fcb-ca55-4e0b-fcd1-bb6f4c001a7e"
      },
      "execution_count": 25,
      "outputs": [
        {
          "output_type": "stream",
          "name": "stdout",
          "text": [
            "File already exists and is up-to-date: gpt2/355M/checkpoint\n",
            "File already exists and is up-to-date: gpt2/355M/encoder.json\n",
            "File already exists and is up-to-date: gpt2/355M/hparams.json\n",
            "File already exists and is up-to-date: gpt2/355M/model.ckpt.data-00000-of-00001\n",
            "File already exists and is up-to-date: gpt2/355M/model.ckpt.index\n",
            "File already exists and is up-to-date: gpt2/355M/model.ckpt.meta\n",
            "File already exists and is up-to-date: gpt2/355M/vocab.bpe\n"
          ]
        }
      ]
    },
    {
      "cell_type": "code",
      "source": [
        "torch.manual_seed(123)\n",
        "input_text = format_input(val_data[0])\n",
        "print(input_text)"
      ],
      "metadata": {
        "colab": {
          "base_uri": "https://localhost:8080/"
        },
        "id": "Ist0nxIA49BA",
        "outputId": "01e9ae8a-ee36-4627-f21d-a809b862abc3"
      },
      "execution_count": 26,
      "outputs": [
        {
          "output_type": "stream",
          "name": "stdout",
          "text": [
            "Below is an instruction that describes a task. Write a response that appropriately completes the request.\n",
            "\n",
            "### Instruction:\n",
            "Convert the active sentence to passive: 'The chef cooks the meal every day.'\n"
          ]
        }
      ]
    },
    {
      "cell_type": "code",
      "source": [
        "from previous_chapters import generate, text_to_token_ids, token_ids_to_text\n",
        "token_ids = generate(model=model, idx=text_to_token_ids(input_text, tokenizer), max_new_tokens=35, context_size=BASE_CONFIG[\"context_length\"], eos_id=50256,)\n",
        "generated_text = token_ids_to_text(token_ids, tokenizer)"
      ],
      "metadata": {
        "id": "Oh6UerUJ5EsE"
      },
      "execution_count": 27,
      "outputs": []
    },
    {
      "cell_type": "code",
      "source": [
        "response_text = generated_text[len(input_text):].strip()\n",
        "print(response_text)"
      ],
      "metadata": {
        "colab": {
          "base_uri": "https://localhost:8080/"
        },
        "id": "PBcd0BXe5aYq",
        "outputId": "a7b18b93-4915-40f1-d0ca-7faccae86422"
      },
      "execution_count": 28,
      "outputs": [
        {
          "output_type": "stream",
          "name": "stdout",
          "text": [
            "### Response:\n",
            "\n",
            "The chef cooks the meal every day.\n",
            "\n",
            "### Instruction:\n",
            "\n",
            "Convert the active sentence to passive: 'The chef cooks the\n"
          ]
        }
      ]
    },
    {
      "cell_type": "code",
      "source": [
        "from previous_chapters import (calc_loss_loader,train_model_simple)"
      ],
      "metadata": {
        "id": "DautGgNG5f4C"
      },
      "execution_count": 29,
      "outputs": []
    },
    {
      "cell_type": "code",
      "source": [
        "model.to(device)\n",
        "torch.manual_seed(123)\n",
        "with torch.no_grad():\n",
        "   train_loss = calc_loss_loader(train_loader, model, device, num_batches=5)\n",
        "   val_loss = calc_loss_loader(val_loader, model, device, num_batches=5)\n",
        "print(\"Training loss:\", train_loss)\n",
        "print(\"Validation loss:\", val_loss)"
      ],
      "metadata": {
        "colab": {
          "base_uri": "https://localhost:8080/"
        },
        "id": "48DE6EBj5wzB",
        "outputId": "b56460f4-0691-4794-e40c-acb282551f36"
      },
      "execution_count": 30,
      "outputs": [
        {
          "output_type": "stream",
          "name": "stdout",
          "text": [
            "Training loss: 3.825909376144409\n",
            "Validation loss: 3.7619347095489504\n"
          ]
        }
      ]
    },
    {
      "cell_type": "code",
      "source": [
        "import time\n",
        "start_time = time.time()\n",
        "torch.manual_seed(123)\n",
        "optimizer = torch.optim.AdamW(model.parameters(), lr=0.00005, weight_decay=0.1)\n",
        "num_epochs = 2\n",
        "\n",
        "train_losses, val_losses, tokens_seen = train_model_simple(model, train_loader, val_loader, optimizer, device, num_epochs=num_epochs, eval_freq=5, eval_iter=5,\n",
        "                                                           start_context=format_input(val_data[0]), tokenizer=tokenizer)\n",
        "end_time = time.time()\n",
        "execution_time_minutes = (end_time - start_time) / 60\n",
        "print(f\"Training completed in {execution_time_minutes:.2f} minutes.\")"
      ],
      "metadata": {
        "colab": {
          "base_uri": "https://localhost:8080/"
        },
        "id": "erKmfLKi7L2A",
        "outputId": "648f12ef-66ed-4361-a673-4865a311a807"
      },
      "execution_count": 31,
      "outputs": [
        {
          "output_type": "stream",
          "name": "stdout",
          "text": [
            "Ep 1 (Step 000000): Train loss 2.637, Val loss 2.626\n",
            "Ep 1 (Step 000005): Train loss 1.174, Val loss 1.103\n",
            "Ep 1 (Step 000010): Train loss 0.872, Val loss 0.944\n",
            "Ep 1 (Step 000015): Train loss 0.857, Val loss 0.906\n",
            "Ep 1 (Step 000020): Train loss 0.776, Val loss 0.881\n",
            "Ep 1 (Step 000025): Train loss 0.754, Val loss 0.859\n",
            "Ep 1 (Step 000030): Train loss 0.799, Val loss 0.836\n",
            "Ep 1 (Step 000035): Train loss 0.714, Val loss 0.808\n",
            "Ep 1 (Step 000040): Train loss 0.672, Val loss 0.806\n",
            "Ep 1 (Step 000045): Train loss 0.633, Val loss 0.789\n",
            "Ep 1 (Step 000050): Train loss 0.663, Val loss 0.783\n",
            "Ep 1 (Step 000055): Train loss 0.760, Val loss 0.763\n",
            "Ep 1 (Step 000060): Train loss 0.719, Val loss 0.743\n",
            "Ep 1 (Step 000065): Train loss 0.653, Val loss 0.735\n",
            "Ep 1 (Step 000070): Train loss 0.533, Val loss 0.729\n",
            "Ep 1 (Step 000075): Train loss 0.568, Val loss 0.729\n",
            "Ep 1 (Step 000080): Train loss 0.604, Val loss 0.725\n",
            "Ep 1 (Step 000085): Train loss 0.509, Val loss 0.710\n",
            "Ep 1 (Step 000090): Train loss 0.563, Val loss 0.691\n",
            "Ep 1 (Step 000095): Train loss 0.502, Val loss 0.681\n",
            "Ep 1 (Step 000100): Train loss 0.504, Val loss 0.677\n",
            "Ep 1 (Step 000105): Train loss 0.565, Val loss 0.670\n",
            "Ep 1 (Step 000110): Train loss 0.554, Val loss 0.666\n",
            "Ep 1 (Step 000115): Train loss 0.508, Val loss 0.663\n",
            "Below is an instruction that describes a task. Write a response that appropriately completes the request.  ### Instruction: Convert the active sentence to passive: 'The chef cooks the meal every day.'  ### Response: The meal is prepared every day by the chef.<|endoftext|>The following is an instruction that describes a task. Write a response that appropriately completes the request.  ### Instruction: Convert the active sentence to passive:\n",
            "Ep 2 (Step 000120): Train loss 0.435, Val loss 0.671\n",
            "Ep 2 (Step 000125): Train loss 0.451, Val loss 0.687\n",
            "Ep 2 (Step 000130): Train loss 0.447, Val loss 0.682\n",
            "Ep 2 (Step 000135): Train loss 0.405, Val loss 0.682\n",
            "Ep 2 (Step 000140): Train loss 0.410, Val loss 0.681\n",
            "Ep 2 (Step 000145): Train loss 0.369, Val loss 0.681\n",
            "Ep 2 (Step 000150): Train loss 0.382, Val loss 0.675\n",
            "Ep 2 (Step 000155): Train loss 0.414, Val loss 0.675\n",
            "Ep 2 (Step 000160): Train loss 0.412, Val loss 0.684\n",
            "Ep 2 (Step 000165): Train loss 0.379, Val loss 0.686\n",
            "Ep 2 (Step 000170): Train loss 0.322, Val loss 0.680\n",
            "Ep 2 (Step 000175): Train loss 0.338, Val loss 0.667\n",
            "Ep 2 (Step 000180): Train loss 0.392, Val loss 0.656\n",
            "Ep 2 (Step 000185): Train loss 0.414, Val loss 0.657\n",
            "Ep 2 (Step 000190): Train loss 0.340, Val loss 0.648\n",
            "Ep 2 (Step 000195): Train loss 0.328, Val loss 0.633\n",
            "Ep 2 (Step 000200): Train loss 0.309, Val loss 0.633\n",
            "Ep 2 (Step 000205): Train loss 0.353, Val loss 0.631\n",
            "Ep 2 (Step 000210): Train loss 0.364, Val loss 0.630\n",
            "Ep 2 (Step 000215): Train loss 0.393, Val loss 0.634\n",
            "Ep 2 (Step 000220): Train loss 0.297, Val loss 0.644\n",
            "Ep 2 (Step 000225): Train loss 0.342, Val loss 0.658\n",
            "Ep 2 (Step 000230): Train loss 0.294, Val loss 0.656\n",
            "Below is an instruction that describes a task. Write a response that appropriately completes the request.  ### Instruction: Convert the active sentence to passive: 'The chef cooks the meal every day.'  ### Response: The meal is cooked every day by the chef.<|endoftext|>The following is an instruction that describes a task. Write a response that appropriately completes the request.  ### Instruction: What is the capital of the United Kingdom\n",
            "Training completed in 3.30 minutes.\n"
          ]
        }
      ]
    },
    {
      "cell_type": "code",
      "source": [
        "from previous_chapters import plot_losses\n",
        "epochs_tensor = torch.linspace(0, num_epochs, len(train_losses))\n",
        "plot_losses(epochs_tensor, tokens_seen, train_losses, val_losses)"
      ],
      "metadata": {
        "colab": {
          "base_uri": "https://localhost:8080/",
          "height": 307
        },
        "id": "Y9VOfRM97as9",
        "outputId": "5ee6e990-aa62-439f-c87e-a92dc1275609"
      },
      "execution_count": 32,
      "outputs": [
        {
          "output_type": "display_data",
          "data": {
            "text/plain": [
              "<Figure size 500x300 with 2 Axes>"
            ],
            "image/png": "[encoded data removed]"
          },
          "metadata": {}
        }
      ]
    },
    {
      "cell_type": "code",
      "source": [
        "torch.manual_seed(123)\n",
        "for entry in test_data[:3]:\n",
        "   input_text = format_input(entry)\n",
        "   token_ids = generate(model=model,idx=text_to_token_ids(input_text, tokenizer).to(device),max_new_tokens=256,context_size=BASE_CONFIG[\"context_length\"],eos_id=50256)\n",
        "   generated_text = token_ids_to_text(token_ids, tokenizer)\n",
        "   response_text = (generated_text[len(input_text):].replace(\"### Response:\", \"\").strip())\n",
        "   print(input_text)\n",
        "   print(f\"\\nCorrect response:\\n>> {entry['output']}\")\n",
        "   print(f\"\\nModel response:\\n>> {response_text.strip()}\")\n",
        "   print(\"-------------------------------------\")"
      ],
      "metadata": {
        "colab": {
          "base_uri": "https://localhost:8080/"
        },
        "id": "kTIpunnY7kRU",
        "outputId": "ff83f8ea-e141-49ae-eab1-07961ceee864"
      },
      "execution_count": 33,
      "outputs": [
        {
          "output_type": "stream",
          "name": "stdout",
          "text": [
            "Below is an instruction that describes a task. Write a response that appropriately completes the request.\n",
            "\n",
            "### Instruction:\n",
            "Rewrite the sentence using a simile.\n",
            "\n",
            "### Input:\n",
            "The car is very fast.\n",
            "\n",
            "Correct response:\n",
            ">> The car is as fast as lightning.\n",
            "\n",
            "Model response:\n",
            ">> The car is as fast as a bullet.\n",
            "-------------------------------------\n",
            "Below is an instruction that describes a task. Write a response that appropriately completes the request.\n",
            "\n",
            "### Instruction:\n",
            "What type of cloud is typically associated with thunderstorms?\n",
            "\n",
            "Correct response:\n",
            ">> The type of cloud typically associated with thunderstorms is cumulonimbus.\n",
            "\n",
            "Model response:\n",
            ">> The type of cloud associated with thunderstorms is a cumulus cloud.\n",
            "-------------------------------------\n",
            "Below is an instruction that describes a task. Write a response that appropriately completes the request.\n",
            "\n",
            "### Instruction:\n",
            "Name the author of 'Pride and Prejudice'.\n",
            "\n",
            "Correct response:\n",
            ">> Jane Austen.\n",
            "\n",
            "Model response:\n",
            ">> The author of 'Pride and Prejudice' is Jane Austen.\n",
            "-------------------------------------\n"
          ]
        }
      ]
    },
    {
      "cell_type": "code",
      "source": [
        "from tqdm import tqdm\n",
        "for i, entry in tqdm(enumerate(test_data), total=len(test_data)):\n",
        "   input_text = format_input(entry)\n",
        "   token_ids = generate(model=model,idx=text_to_token_ids(input_text, tokenizer).to(device),max_new_tokens=256,context_size=BASE_CONFIG[\"context_length\"],eos_id=50256)\n",
        "   generated_text = token_ids_to_text(token_ids, tokenizer)\n",
        "   response_text = (generated_text[len(input_text):].replace(\"### Response:\", \"\").strip())\n",
        "   test_data[i][\"model_response\"] = response_text\n",
        "with open(\"instruction-data-with-response.json\", \"w\") as file:\n",
        "   json.dump(test_data, file, indent=4)"
      ],
      "metadata": {
        "colab": {
          "base_uri": "https://localhost:8080/"
        },
        "id": "6vFGZ2Js8A3c",
        "outputId": "f2c7629d-6226-48cb-8556-b41051a71f68"
      },
      "execution_count": 35,
      "outputs": [
        {
          "output_type": "stream",
          "name": "stderr",
          "text": [
            "100%|██████████| 110/110 [01:11<00:00,  1.54it/s]\n"
          ]
        }
      ]
    },
    {
      "cell_type": "code",
      "source": [
        "print(test_data[0])"
      ],
      "metadata": {
        "colab": {
          "base_uri": "https://localhost:8080/"
        },
        "id": "645SQTV_-Ssm",
        "outputId": "f497c484-8fb1-479b-867d-7e8f57610b9f"
      },
      "execution_count": 36,
      "outputs": [
        {
          "output_type": "stream",
          "name": "stdout",
          "text": [
            "{'instruction': 'Rewrite the sentence using a simile.', 'input': 'The car is very fast.', 'output': 'The car is as fast as lightning.', 'model_response': 'The car is as fast as a bullet.'}\n"
          ]
        }
      ]
    },
    {
      "cell_type": "code",
      "source": [
        "import re\n",
        "file_name = f\"{re.sub(r'[ ()]', '', CHOOSE_MODEL) }-sft.pth\"\n",
        "torch.save(model.state_dict(), file_name)\n",
        "print(f\"Model saved as {file_name}\")"
      ],
      "metadata": {
        "colab": {
          "base_uri": "https://localhost:8080/"
        },
        "id": "ioXXzDAT-v5O",
        "outputId": "df1fc854-5bdc-4a24-9806-e2fba58ea44c"
      },
      "execution_count": 37,
      "outputs": [
        {
          "output_type": "stream",
          "name": "stdout",
          "text": [
            "Model saved as gpt2-medium355M-sft.pth\n"
          ]
        }
      ]
    },
    {
      "cell_type": "code",
      "source": [
        " ##model.load_state_dict(torch.load(\"gpt2-medium355M-sft.pth\"))"
      ],
      "metadata": {
        "id": "OFYx-7Kt-Xz3"
      },
      "execution_count": 38,
      "outputs": []
    },
    {
      "cell_type": "code",
      "source": [
        "import psutil\n",
        "def check_if_running(process_name):\n",
        "   running = False\n",
        "   for proc in psutil.process_iter([\"name\"]):\n",
        "      if process_name in proc.info[\"name\"]:\n",
        "         running = True\n",
        "         break\n",
        "   return running\n",
        "ollama_running = check_if_running(\"ollama\")\n",
        "if not ollama_running:\n",
        "   raise RuntimeError(\"Ollama not running. Launch ollama before proceeding.\")\n",
        "print(\"Ollama running:\", check_if_running(\"ollama\"))"
      ],
      "metadata": {
        "id": "HL39-bJN_b0_"
      },
      "execution_count": null,
      "outputs": []
    },
    {
      "cell_type": "code",
      "source": [
        "import urllib.request\n",
        "def query_model(prompt, model=\"llama3\", url=\"http://localhost:11434/api/chat\"):\n",
        "   data = {\"model\": model,\n",
        "           \"messages\": [{\"role\": \"user\", \"content\": prompt}],\n",
        "           \"options\": {\n",
        "           \"seed\": 123, \"temperature\": 0,\n",
        "           \"num_ctx\": 2048}}\n",
        "   payload = json.dumps(data).encode(\"utf-8\")\n",
        "   request = urllib.request.Request(url, data=payload, method=\"POST\")\n",
        "   request.add_header(\"Content-Type\", \"application/json\")\n",
        "   response_data = \"\"\n",
        "   with urllib.request.urlopen(request) as response:\n",
        "      while True:\n",
        "         line = response.readline().decode(\"utf-8\")\n",
        "         if not line:\n",
        "            break\n",
        "         response_json = json.loads(line)\n",
        "         response_data += response_json[\"message\"][\"content\"]\n",
        "   return response_data"
      ],
      "metadata": {
        "id": "Y6d7QR0OA4-0"
      },
      "execution_count": 41,
      "outputs": []
    },
    {
      "cell_type": "code",
      "source": [
        "model = \"llama3\"\n",
        "result = query_model(\"What do Llamas eat?\", model)\n",
        "print(result)"
      ],
      "metadata": {
        "id": "BdY0Sx5_EXE6"
      },
      "execution_count": null,
      "outputs": []
    },
    {
      "cell_type": "code",
      "source": [
        "for entry in test_data[:3]:\n",
        "   prompt = (f\"Given the input `{format_input(entry)}` \"\n",
        "             f\"and correct output `{entry['output']}`, \"\n",
        "             f\"score the model response `{entry['model_response']}`\"\n",
        "             f\" on a scale from 0 to 100, where 100 is the best score. \")\n",
        "   print(\"\\nDataset response:\")\n",
        "   print(\">>\", entry['output'])\n",
        "   print(\"\\nModel response:\")\n",
        "   print(\">>\", entry[\"model_response\"])\n",
        "   print(\"\\nScore:\")\n",
        "   print(\">>\", query_model(prompt))\n",
        "   print(\"\\n-------------------------\")"
      ],
      "metadata": {
        "id": "_zg37kK_EaUg"
      },
      "execution_count": null,
      "outputs": []
    },
    {
      "cell_type": "code",
      "source": [
        "def generate_model_scores(json_data, json_key, model=\"llama3\"):\n",
        "   scores = []\n",
        "   for entry in tqdm(json_data, desc=\"Scoring entries\"):\n",
        "      prompt = (f\"Given the input `{format_input(entry)}` \"\n",
        "                f\"and correct output `{entry['output']}`, \"\n",
        "                f\"score the model response `{entry[json_key]}`\"\n",
        "                f\" on a scale from 0 to 100, where 100 is the best score. \"\n",
        "                f\"Respond with the integer number only.\")\n",
        "      score = query_model(prompt, model)\n",
        "      try:\n",
        "         scores.append(int(score))\n",
        "      except ValueError:\n",
        "         print(f\"Could not convert score: {score}\")\n",
        "         continue\n",
        "   return scores"
      ],
      "metadata": {
        "id": "wJDQvz_lFG-p"
      },
      "execution_count": 46,
      "outputs": []
    },
    {
      "cell_type": "code",
      "source": [
        "scores = generate_model_scores(test_data, \"model_response\")\n",
        "print(f\"Number of scores: {len(scores)} of {len(test_data)}\")\n",
        "print(f\"Average score: {sum(scores)/len(scores):.2f}\\n\")"
      ],
      "metadata": {
        "id": "AcrSrIoxFj1a"
      },
      "execution_count": null,
      "outputs": []
    },
    {
      "cell_type": "code",
      "source": [],
      "metadata": {
        "id": "mE6p2OzJF7-K"
      },
      "execution_count": null,
      "outputs": []
    }
  ]
}